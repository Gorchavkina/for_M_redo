{
 "cells": [
  {
   "cell_type": "code",
   "execution_count": 5,
   "metadata": {},
   "outputs": [],
   "source": [
    "import matplotlib.pyplot as plt\n",
    "import numpy as np\n",
    "from scipy import optimize"
   ]
  },
  {
   "cell_type": "markdown",
   "metadata": {},
   "source": [
    "## Без емкости, диссипации"
   ]
  },
  {
   "cell_type": "markdown",
   "metadata": {},
   "source": [
    "phix1[phi_] := phi + lq*Sin[phi];"
   ]
  },
  {
   "cell_type": "code",
   "execution_count": 4,
   "metadata": {},
   "outputs": [],
   "source": [
    "# зн-я внешнего магнитного потока\n",
    "phx = np.linspace(-np.pi, np.pi, 700)"
   ]
  },
  {
   "cell_type": "code",
   "execution_count": 6,
   "metadata": {},
   "outputs": [],
   "source": [
    "lq = 0.9\n",
    "\n",
    "ll_11 = [] # в первый список вносим значения phix\n",
    "ll_12 = [] # во второй - корень уравнения (phi)\n",
    "for i in phx: \n",
    "    try:\n",
    "        root = optimize.newton(lambda x: x - i - lq*np.sin(x), -np.pi) # решение вблизи -pi\n",
    "        ll_11.append(i)\n",
    "        ll_12.append(root)\n",
    "    except:\n",
    "        ll_11.append(0)\n",
    "        ll_12.append(0)"
   ]
  },
  {
   "cell_type": "code",
   "execution_count": 7,
   "metadata": {},
   "outputs": [],
   "source": [
    "ll_01 = []\n",
    "ll_02 = []\n",
    "\n",
    "for i in phx: \n",
    "    try:\n",
    "        root = optimize.newton(lambda x: x - i - lq*np.sin(x), 0) # решение вблизи 0\n",
    "        ll_01.append(i)\n",
    "        ll_02.append(root)\n",
    "    except:\n",
    "        ll_01.append(0)\n",
    "        ll_02.append(0)\n"
   ]
  },
  {
   "cell_type": "code",
   "execution_count": 8,
   "metadata": {},
   "outputs": [],
   "source": [
    "ll_21 = []\n",
    "ll_22 = []\n",
    "for i in phx: \n",
    "    try:\n",
    "        root = optimize.newton(lambda x: x - i - lq*np.sin(x), np.pi) # решение вблизи 0\n",
    "        ll_21.append(i)\n",
    "        ll_22.append(root)\n",
    "    except:\n",
    "        ll_21.append(0)\n",
    "        ll_22.append(0)\n"
   ]
  },
  {
   "cell_type": "code",
   "execution_count": 9,
   "metadata": {},
   "outputs": [
    {
     "data": {
      "image/png": "[encoded data removed]",
      "text/plain": [
       "<Figure size 432x288 with 1 Axes>"
      ]
     },
     "metadata": {
      "needs_background": "light"
     },
     "output_type": "display_data"
    }
   ],
   "source": [
    "plt.scatter(ll_11, ll_12, s = 0.1, label=\"x0 = - pi\")\n",
    "plt.scatter(ll_01, ll_02, s = 0.1, label=\"x0 = 0\")\n",
    "plt.scatter(ll_21, ll_22, s = 0.1, label=\"x0 = pi\")\n",
    "#plt.legend()\n",
    "plt.ylabel(r\"$\\varphi$\", fontsize = 18)\n",
    "plt.xlabel(r\"$\\varphi_{ex}$\", fontsize = 18)\n",
    "plt.show()"
   ]
  }
 ],
 "metadata": {
  "kernelspec": {
   "display_name": "Python 3",
   "language": "python",
   "name": "python3"
  },
  "language_info": {
   "codemirror_mode": {
    "name": "ipython",
    "version": 3
   },
   "file_extension": ".py",
   "mimetype": "text/x-python",
   "name": "python",
   "nbconvert_exporter": "python",
   "pygments_lexer": "ipython3",
   "version": "3.7.6"
  }
 },
 "nbformat": 4,
 "nbformat_minor": 4
}
